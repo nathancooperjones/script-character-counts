{
 "cells": [
  {
   "cell_type": "markdown",
   "metadata": {},
   "source": [
    "# Testing out `script_scraper.py` v0.2.0 "
   ]
  },
  {
   "cell_type": "code",
   "execution_count": null,
   "metadata": {},
   "outputs": [],
   "source": [
    "%load_ext autoreload\n",
    "%autoreload 2"
   ]
  },
  {
   "cell_type": "code",
   "execution_count": null,
   "metadata": {},
   "outputs": [],
   "source": [
    "import os\n",
    "import pathlib\n",
    "\n",
    "import pandas as pd\n",
    "\n",
    "from script_scraper import open_pdf, word_and_sentence_count, script_scraper"
   ]
  },
  {
   "cell_type": "code",
   "execution_count": null,
   "metadata": {},
   "outputs": [],
   "source": [
    "SCRIPT_NAME = '../data/'"
   ]
  },
  {
   "cell_type": "code",
   "execution_count": null,
   "metadata": {},
   "outputs": [],
   "source": [
    "pdf = open_pdf(SCRIPT_NAME)"
   ]
  },
  {
   "cell_type": "code",
   "execution_count": null,
   "metadata": {},
   "outputs": [],
   "source": [
    "# print(pdf[73])\n",
    "# joint_pdf = ['\\n'.join(page.split('\\n')[0:-4]) for page in pdf]"
   ]
  },
  {
   "cell_type": "code",
   "execution_count": null,
   "metadata": {},
   "outputs": [],
   "source": [
    "words_spoken = script_scraper(pdf=pdf,\n",
    "                              remove_first_line=True,\n",
    "                              start_page_number=1,\n",
    "                              verbose=True,\n",
    "                              debug=False)"
   ]
  },
  {
   "cell_type": "code",
   "execution_count": null,
   "metadata": {},
   "outputs": [],
   "source": [
    "list(words_spoken.keys())  # all character names - sorta"
   ]
  },
  {
   "cell_type": "code",
   "execution_count": null,
   "metadata": {},
   "outputs": [],
   "source": [
    "character_list = list()\n",
    "word_count_list = list()\n",
    "sentence_count_list = list()\n",
    "\n",
    "for character in list(words_spoken.keys()):\n",
    "    word_count, sentence_count = word_and_sentence_count(words_spoken[character])\n",
    "    \n",
    "    character_list.append(character)\n",
    "    word_count_list.append(word_count)\n",
    "    sentence_count_list.append(sentence_count)\n",
    "    \n",
    "    print(f'{character},{word_count},{sentence_count}')\n",
    "    \n",
    "\n",
    "df = pd.DataFrame(data=zip(character_list, word_count_list, sentence_count_list), columns=['character', 'word count', 'line count'])\n",
    "\n",
    "display(df)\n",
    "\n",
    "df_filtered = df[df['line count'] >= 5]\n",
    "\n",
    "df_filtered"
   ]
  },
  {
   "cell_type": "code",
   "execution_count": null,
   "metadata": {},
   "outputs": [],
   "source": [
    "import os\n",
    "\n",
    "\n",
    "base_filename = os.path.basename(SCRIPT_NAME)\n",
    "base_filename = os.path.splitext(base_filename)[0]\n",
    "\n",
    "df_filtered.to_excel(os.path.join('../data/', base_filename + '.xlsx'), index=False)"
   ]
  },
  {
   "cell_type": "markdown",
   "metadata": {},
   "source": [
    "----- "
   ]
  }
 ],
 "metadata": {
  "kernelspec": {
   "display_name": "Python 3",
   "language": "python",
   "name": "python3"
  },
  "language_info": {
   "codemirror_mode": {
    "name": "ipython",
    "version": 3
   },
   "file_extension": ".py",
   "mimetype": "text/x-python",
   "name": "python",
   "nbconvert_exporter": "python",
   "pygments_lexer": "ipython3",
   "version": "3.8.6"
  }
 },
 "nbformat": 4,
 "nbformat_minor": 4
}
