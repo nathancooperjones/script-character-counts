{
 "cells": [
  {
   "cell_type": "markdown",
   "metadata": {},
   "source": [
    "## Testing out `character_dialogue.py` v0.1.0"
   ]
  },
  {
   "cell_type": "code",
   "execution_count": 1,
   "metadata": {},
   "outputs": [],
   "source": [
    "%load_ext autoreload\n",
    "%autoreload 2"
   ]
  },
  {
   "cell_type": "code",
   "execution_count": 2,
   "metadata": {},
   "outputs": [],
   "source": [
    "from script_scraper import get_character_dialogue_for_script, open_pdf, word_and_sentence_count"
   ]
  },
  {
   "cell_type": "code",
   "execution_count": 3,
   "metadata": {},
   "outputs": [],
   "source": [
    "pdf = open_pdf(path='/Users/nathancooperjones/Desktop/Salvation_Road.pdf')"
   ]
  },
  {
   "cell_type": "code",
   "execution_count": 4,
   "metadata": {},
   "outputs": [],
   "source": [
    "# TODO: make helper function\n",
    "#\n",
    "#\n",
    "combined_pdf = ''\n",
    "for page in pdf:\n",
    "    combined_pdf += page\n",
    "\n",
    "combined_pdf = [combined_pdf]"
   ]
  },
  {
   "cell_type": "code",
   "execution_count": 5,
   "metadata": {},
   "outputs": [],
   "source": [
    "# TODO: make function combining two characters dialogue (i.e. Jack, Jack Singing)"
   ]
  },
  {
   "cell_type": "code",
   "execution_count": 10,
   "metadata": {},
   "outputs": [
    {
     "name": "stderr",
     "output_type": "stream",
     "text": [
      "100%|██████████| 1/1 [00:00<00:00, 131.86it/s]\n"
     ]
    }
   ],
   "source": [
    "words_spoken = get_character_dialogue_for_script(pdf=combined_pdf,\n",
    "                                                 remove_first_line=False,\n",
    "                                                 debug=False)"
   ]
  },
  {
   "cell_type": "code",
   "execution_count": 11,
   "metadata": {},
   "outputs": [
    {
     "data": {
      "text/plain": [
       "['DETECTIVE HENDRIX',\n",
       " 'EDDIE',\n",
       " 'MCGINNIS',\n",
       " 'ARLA',\n",
       " 'PHOTOGRAPHER',\n",
       " 'LT. THOMAS',\n",
       " 'BEVERLY',\n",
       " 'DALE',\n",
       " 'CITY CLERKS',\n",
       " 'MONROE']"
      ]
     },
     "execution_count": 11,
     "metadata": {},
     "output_type": "execute_result"
    }
   ],
   "source": [
    "list(words_spoken.keys())  # all character names - sorta"
   ]
  },
  {
   "cell_type": "code",
   "execution_count": 14,
   "metadata": {},
   "outputs": [
    {
     "name": "stderr",
     "output_type": "stream",
     "text": [
      "[nltk_data] Downloading package punkt to\n",
      "[nltk_data]     /Users/nathancooperjones/nltk_data...\n",
      "[nltk_data]   Package punkt is already up-to-date!\n"
     ]
    },
    {
     "data": {
      "text/plain": [
       "(828, 181)"
      ]
     },
     "execution_count": 14,
     "metadata": {},
     "output_type": "execute_result"
    }
   ],
   "source": [
    "word_count, sentence_count = word_and_sentence_count(words_spoken['EDDIE'])\n",
    "\n",
    "word_count, sentence_count"
   ]
  },
  {
   "cell_type": "markdown",
   "metadata": {},
   "source": [
    "----- "
   ]
  }
 ],
 "metadata": {
  "kernelspec": {
   "display_name": "Python 3",
   "language": "python",
   "name": "python3"
  },
  "language_info": {
   "codemirror_mode": {
    "name": "ipython",
    "version": 3
   },
   "file_extension": ".py",
   "mimetype": "text/x-python",
   "name": "python",
   "nbconvert_exporter": "python",
   "pygments_lexer": "ipython3",
   "version": "3.7.5"
  }
 },
 "nbformat": 4,
 "nbformat_minor": 4
}
