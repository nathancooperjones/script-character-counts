{
 "cells": [
  {
   "cell_type": "markdown",
   "metadata": {},
   "source": [
    "## Testing out `character_dialogue.py` v0.1.0"
   ]
  },
  {
   "cell_type": "code",
   "execution_count": 1,
   "metadata": {},
   "outputs": [],
   "source": [
    "%load_ext autoreload\n",
    "%autoreload 2"
   ]
  },
  {
   "cell_type": "code",
   "execution_count": 2,
   "metadata": {},
   "outputs": [],
   "source": [
    "from script_scraper import get_character_dialogue_for_script, open_pdf, word_and_sentence_count"
   ]
  },
  {
   "cell_type": "code",
   "execution_count": 3,
   "metadata": {},
   "outputs": [],
   "source": [
    "pdf = open_pdf(path='/Users/nathancooperjones/Desktop/Inception.pdf')"
   ]
  },
  {
   "cell_type": "code",
   "execution_count": 4,
   "metadata": {},
   "outputs": [
    {
     "name": "stdout",
     "output_type": "stream",
     "text": [
      "FADE IN:\n",
      "\n",
      "DAWN. CRASHING SURF.\n",
      "\n",
      "The waves TOSS a BEARDED MAN onto wet sand. He lies there.\n",
      "\n",
      "A CHILD’S SHOUT makes him LIFT his head to see: a LITTLE\n",
      "BLONDE BOY crouching, back towards us, watching the tide eat\n",
      "a SANDCASTLE. A LITTLE BLONDE GIRL joins the boy. The Bearded\n",
      "Man tries to call them, but they RUN OFF, FACES UNSEEN. He\n",
      "COLLAPSES.\n",
      "\n",
      "The barrel of a rifle ROLLS the Bearded Man onto his back. A\n",
      "JAPANESE SECURITY GUARD looks down at him, then calls up the\n",
      "beach to a colleague leaning against a JEEP. Behind them is a\n",
      "cliff, and on top of that, a JAPANESE CASTLE.\n",
      "\n",
      "INT. ELEGANT DINING ROOM, JAPANESE CASTLE - LATER\n",
      "\n",
      "The Security Guard waits as an ATTENDANT speaks to an ELDERLY\n",
      "JAPANESE MAN sitting at the dining table, back to us.\n",
      "\n",
      "                     ATTENDANT\n",
      "               (in Japanese)\n",
      "           He was delirious. But he asked for\n",
      "           you by name. And...\n",
      "               (to the Security Guard)\n",
      "           Show him.\n",
      "\n",
      "                     SECURITY GUARD\n",
      "               (in Japanese)\n",
      "           He was carrying nothing but this...\n",
      "\n",
      "He puts a HANDGUN on the table. The Elderly Man keeps eating.\n",
      "\n",
      "                     SECURITY GUARD\n",
      "           ...and this.\n",
      "\n",
      "The Security Guard places a SMALL PEWTER CONE alongside the\n",
      "gun. The Elderly Man STOPS eating. Picks up the cone.\n",
      "\n",
      "                     ELDERLY JAPANESE MAN\n",
      "               (in Japanese)\n",
      "           Bring him here. And some food.\n",
      "\n",
      "INT. SAME - MOMENTS LATER\n",
      "\n",
      "The Elderly Man watches the Bearded Man WOLF down his food.\n",
      "He SLIDES the handgun down the table towards him.\n",
      "\n",
      "                     ELDERLY JAPANESE MAN\n",
      "               (in English)\n",
      "           Are you here to kill me?\n",
      "\n",
      "The Bearded Man glances up at him, then back to his food.\n",
      "\f",
      "\n"
     ]
    }
   ],
   "source": [
    "print(pdf[1])"
   ]
  },
  {
   "cell_type": "code",
   "execution_count": 5,
   "metadata": {},
   "outputs": [
    {
     "name": "stderr",
     "output_type": "stream",
     "text": [
      "100%|██████████| 147/147 [00:00<00:00, 597.39it/s]\n"
     ]
    }
   ],
   "source": [
    "words_spoken = get_character_dialogue_for_script(pdf=pdf,\n",
    "                                                 non_dialogue_sentence='The waves TOSS a BEARDED MAN onto wet sand. He lies there.',\n",
    "                                                 remove_first_line=False)"
   ]
  },
  {
   "cell_type": "code",
   "execution_count": 6,
   "metadata": {},
   "outputs": [
    {
     "data": {
      "text/plain": [
       "['ATTENDANT',\n",
       " 'SECURITY GUARD',\n",
       " 'ELDERLY JAPANESE MAN',\n",
       " 'COBB',\n",
       " 'ARTHUR',\n",
       " 'SAITO',\n",
       " 'MAL',\n",
       " 'NASH',\n",
       " 'TODASHI',\n",
       " \"CHILDREN'S VOICES\",\n",
       " 'JAMES',\n",
       " 'LITTLE GIRL',\n",
       " 'PHILIPPA',\n",
       " \"GRANDMA'S VOICE\",\n",
       " 'MILES',\n",
       " 'ARIADNE',\n",
       " 'EAMES',\n",
       " 'SECOND BUSINESSMAN',\n",
       " 'YUSUF',\n",
       " 'ELDERLY BALD MAN',\n",
       " 'WILL CREATE SOMETHING MYSELF.\"',\n",
       " 'BROWNING',\n",
       " 'LAWYER',\n",
       " 'FATHER',\n",
       " 'FISCHER',\n",
       " 'THIN MAN',\n",
       " 'FLIGHT ATTENDANT',\n",
       " 'CABDRIVER',\n",
       " 'BLONDE']"
      ]
     },
     "execution_count": 6,
     "metadata": {},
     "output_type": "execute_result"
    }
   ],
   "source": [
    "list(words_spoken.keys())  # all character names - sorta"
   ]
  },
  {
   "cell_type": "code",
   "execution_count": 7,
   "metadata": {},
   "outputs": [
    {
     "name": "stderr",
     "output_type": "stream",
     "text": [
      "[nltk_data] Downloading package punkt to\n",
      "[nltk_data]     /Users/nathancooperjones/nltk_data...\n",
      "[nltk_data]   Package punkt is already up-to-date!\n"
     ]
    },
    {
     "data": {
      "text/plain": [
       "(4889, 688)"
      ]
     },
     "execution_count": 7,
     "metadata": {},
     "output_type": "execute_result"
    }
   ],
   "source": [
    "word_count, sentence_count = word_and_sentence_count(words_spoken['COBB'])\n",
    "\n",
    "word_count, sentence_count"
   ]
  },
  {
   "cell_type": "markdown",
   "metadata": {},
   "source": [
    "----- "
   ]
  }
 ],
 "metadata": {
  "kernelspec": {
   "display_name": "Python 3",
   "language": "python",
   "name": "python3"
  },
  "language_info": {
   "codemirror_mode": {
    "name": "ipython",
    "version": 3
   },
   "file_extension": ".py",
   "mimetype": "text/x-python",
   "name": "python",
   "nbconvert_exporter": "python",
   "pygments_lexer": "ipython3",
   "version": "3.7.5"
  }
 },
 "nbformat": 4,
 "nbformat_minor": 4
}
