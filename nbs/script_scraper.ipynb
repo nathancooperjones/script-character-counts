{
 "cells": [
  {
   "cell_type": "markdown",
   "metadata": {},
   "source": [
    "# Testing out `script_scraper.py` v0.2.0 "
   ]
  },
  {
   "cell_type": "code",
   "execution_count": 1,
   "metadata": {},
   "outputs": [],
   "source": [
    "%load_ext autoreload\n",
    "%autoreload 2"
   ]
  },
  {
   "cell_type": "code",
   "execution_count": 2,
   "metadata": {},
   "outputs": [],
   "source": [
    "import os\n",
    "import pathlib\n",
    "\n",
    "from script_scraper import open_pdf, word_and_sentence_count, script_scraper"
   ]
  },
  {
   "cell_type": "code",
   "execution_count": 3,
   "metadata": {},
   "outputs": [],
   "source": [
    "data_dir_path = pathlib.Path(os.getcwd()).parent.absolute() / 'tests/fixtures'\n",
    "pdf = open_pdf(data_dir_path / '500_days_of_summer_sample_script.pdf')"
   ]
  },
  {
   "cell_type": "code",
   "execution_count": 4,
   "metadata": {},
   "outputs": [
    {
     "name": "stdout",
     "output_type": "stream",
     "text": [
      "\n",
      " SUMMER\n",
      "     I was very neat and organized.\n",
      "\n",
      " SUMMER\n",
      "     Anyway, I should get back.\n",
      "\n",
      " TOM\n",
      "     Ok, well, I’ll see you around.\n",
      "\n",
      " TOM\n",
      "     And it turns out she’s read every\n",
      "     Graham Greene novel ever published.\n",
      "     Her desk is lined with Magritte\n",
      "     posters and Edward Hopper.\n",
      "\n",
      " RACHEL\n",
      "     Your favorites.\n",
      "\n",
      " TOM\n",
      "     We’re so compatible it’s insane!\n",
      "     Seriously! It doesn’t make sense!\n",
      "     She’s not like I thought at all.\n",
      "     She’s amazing.\n",
      "\n",
      " RACHEL\n",
      "     Oh boy.\n",
      "\n",
      " TOM\n",
      "     What?\n",
      "\n",
      " RACHEL\n",
      "     You know just cause some cute girl\n",
      "     likes the same bizarro music you do\n",
      "     doesn’t make her “the one.”\n",
      "\n",
      " TOM\n",
      "\n",
      " TOM\n",
      "     But, what if you meet someone and\n",
      "     fall in love?\n",
      "\n",
      " SUMMER\n",
      "     Love? You seriously believe in that\n",
      "     stuff?\n",
      "\n",
      " TOM\n",
      "     Of course I do.\n",
      "\n",
      " SUMMER\n",
      "     Interesting. A real romantic.\n",
      "\n",
      " MCKENZIE\n",
      "     Oh you have no idea. This one--\n",
      "     embarrassing. There was this one\n",
      "     girl,\n",
      "     I gotta tell this story --\n",
      "\n",
      " TOM\n",
      "     Summer, hold on, you don’t believe\n",
      "     in love?\n",
      "\n",
      " SUMMER\n",
      "     I don’t even know what that word\n",
      "     means. I know I’ve never felt it,\n",
      "     whatever it is in all those songs.\n",
      "     And I know that today most marriages\n",
      "     end in divorce. Like my parents.\n",
      "\n",
      " TOM\n",
      "     Well mine too but --\n",
      "\n",
      " SUMMER\n",
      "     Oh yeah, And I read in Newsweek,\n",
      "     there were these scientists who\n",
      "     found that by stimulating a part of\n",
      "     the brain with electrodes you can\n",
      "     make a person fall in “love” with a\n",
      "     rock. Is that the love you’re\n",
      "     talking about?\n",
      "\n",
      " TOM\n",
      "     Well--\n",
      "\n",
      " SUMMER\n",
      "     Why, what’s your take on it?\n"
     ]
    }
   ],
   "source": [
    "words_spoken = script_scraper(pdf=pdf,\n",
    "                              remove_first_line=True,\n",
    "                              verbose=True,\n",
    "                              debug=False)"
   ]
  },
  {
   "cell_type": "code",
   "execution_count": 5,
   "metadata": {},
   "outputs": [
    {
     "data": {
      "text/plain": [
       "['SUMMER', 'TOM', 'RACHEL', 'MCKENZIE']"
      ]
     },
     "execution_count": 5,
     "metadata": {},
     "output_type": "execute_result"
    }
   ],
   "source": [
    "list(words_spoken.keys())  # all character names - sorta"
   ]
  },
  {
   "cell_type": "code",
   "execution_count": 6,
   "metadata": {},
   "outputs": [
    {
     "data": {
      "text/plain": [
       "['I was very neat and organized.',\n",
       " 'Anyway, I should get back.',\n",
       " 'Love? You seriously believe in that',\n",
       " 'stuff?',\n",
       " 'Interesting. A real romantic.',\n",
       " 'I don’t even know what that word',\n",
       " 'means. I know I’ve never felt it,',\n",
       " 'whatever it is in all those songs.',\n",
       " 'And I know that today most marriages',\n",
       " 'end in divorce. Like my parents.',\n",
       " 'Oh yeah, And I read in Newsweek,',\n",
       " 'there were these scientists who',\n",
       " 'found that by stimulating a part of',\n",
       " 'the brain with electrodes you can',\n",
       " 'make a person fall in “love” with a',\n",
       " 'rock. Is that the love you’re',\n",
       " 'talking about?',\n",
       " 'Why, what’s your take on it?']"
      ]
     },
     "execution_count": 6,
     "metadata": {},
     "output_type": "execute_result"
    }
   ],
   "source": [
    "words_spoken['SUMMER']"
   ]
  },
  {
   "cell_type": "code",
   "execution_count": 7,
   "metadata": {},
   "outputs": [
    {
     "name": "stderr",
     "output_type": "stream",
     "text": [
      "[nltk_data] Downloading package punkt to /root/nltk_data...\n",
      "[nltk_data]   Package punkt is already up-to-date!\n"
     ]
    },
    {
     "data": {
      "text/plain": [
       "(103, 13)"
      ]
     },
     "execution_count": 7,
     "metadata": {},
     "output_type": "execute_result"
    }
   ],
   "source": [
    "word_count, sentence_count = word_and_sentence_count(words_spoken['SUMMER'])\n",
    "\n",
    "word_count, sentence_count"
   ]
  },
  {
   "cell_type": "markdown",
   "metadata": {},
   "source": [
    "----- "
   ]
  }
 ],
 "metadata": {
  "kernelspec": {
   "display_name": "Python 3",
   "language": "python",
   "name": "python3"
  },
  "language_info": {
   "codemirror_mode": {
    "name": "ipython",
    "version": 3
   },
   "file_extension": ".py",
   "mimetype": "text/x-python",
   "name": "python",
   "nbconvert_exporter": "python",
   "pygments_lexer": "ipython3",
   "version": "3.8.6"
  }
 },
 "nbformat": 4,
 "nbformat_minor": 4
}
